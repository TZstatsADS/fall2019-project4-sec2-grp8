{
 "cells": [
  {
   "cell_type": "markdown",
   "metadata": {},
   "source": [
    "### Splitiing the data set to test and train"
   ]
  },
  {
   "cell_type": "code",
   "execution_count": 15,
   "metadata": {
    "scrolled": true
   },
   "outputs": [],
   "source": [
    "import pandas as pd\n",
    "import random\n",
    "train_frac = 0.8\n",
    "\n",
    "rating_path = '../data/ml-latest-small/ratings.csv'\n",
    "rating_pd = pd.read_csv(rating_path)\n",
    "df_shuffled = rating_pd.sample(frac=1).reset_index(drop=True)\n",
    "# df_shuffled.head()\n",
    "\n",
    "train_set = df_shuffled.iloc[:int(train_frac * len(df_shuffled))]\n",
    "train_set.to_csv(path_or_buf='../data/train_set.csv', index=False)\n",
    "test_set = df_shuffled.iloc[int(train_frac * len(df_shuffled)):]\n",
    "test_set.to_csv(path_or_buf='../data/test_set.csv', index=False)"
   ]
  },
  {
   "cell_type": "code",
   "execution_count": 16,
   "metadata": {},
   "outputs": [
    {
     "data": {
      "text/plain": [
       "80668"
      ]
     },
     "execution_count": 16,
     "metadata": {},
     "output_type": "execute_result"
    }
   ],
   "source": [
    "train_path = '../data/train_set.csv'\n",
    "len(pd.read_csv(train_path))"
   ]
  },
  {
   "cell_type": "code",
   "execution_count": 14,
   "metadata": {},
   "outputs": [
    {
     "data": {
      "text/plain": [
       "80668"
      ]
     },
     "execution_count": 14,
     "metadata": {},
     "output_type": "execute_result"
    }
   ],
   "source": [
    "int(0.8 * len(df_shuffled))"
   ]
  },
  {
   "cell_type": "code",
   "execution_count": 1,
   "metadata": {},
   "outputs": [],
   "source": [
    "import numpy as np\n",
    "import pandas as pd"
   ]
  },
  {
   "cell_type": "code",
   "execution_count": 2,
   "metadata": {},
   "outputs": [],
   "source": [
    "latent_dim = 100\n",
    "sigma = 0.5\n",
    "sigma_p = 0.5\n",
    "sigma_q = 0.5\n",
    "mu = 0\n",
    "rating_path = '../data/ml-latest-small/ratings.csv'\n",
    "train_path = '../data/train_set.csv'"
   ]
  },
  {
   "cell_type": "code",
   "execution_count": 17,
   "metadata": {
    "scrolled": true
   },
   "outputs": [
    {
     "data": {
      "text/html": [
       "<div>\n",
       "<style scoped>\n",
       "    .dataframe tbody tr th:only-of-type {\n",
       "        vertical-align: middle;\n",
       "    }\n",
       "\n",
       "    .dataframe tbody tr th {\n",
       "        vertical-align: top;\n",
       "    }\n",
       "\n",
       "    .dataframe thead th {\n",
       "        text-align: right;\n",
       "    }\n",
       "</style>\n",
       "<table border=\"1\" class=\"dataframe\">\n",
       "  <thead>\n",
       "    <tr style=\"text-align: right;\">\n",
       "      <th></th>\n",
       "      <th>userId</th>\n",
       "      <th>movieId</th>\n",
       "      <th>rating</th>\n",
       "      <th>timestamp</th>\n",
       "    </tr>\n",
       "  </thead>\n",
       "  <tbody>\n",
       "    <tr>\n",
       "      <th>0</th>\n",
       "      <td>438</td>\n",
       "      <td>4344</td>\n",
       "      <td>3.5</td>\n",
       "      <td>1105664636</td>\n",
       "    </tr>\n",
       "    <tr>\n",
       "      <th>1</th>\n",
       "      <td>323</td>\n",
       "      <td>230</td>\n",
       "      <td>3.0</td>\n",
       "      <td>1422640640</td>\n",
       "    </tr>\n",
       "    <tr>\n",
       "      <th>2</th>\n",
       "      <td>226</td>\n",
       "      <td>520</td>\n",
       "      <td>4.0</td>\n",
       "      <td>1095663071</td>\n",
       "    </tr>\n",
       "    <tr>\n",
       "      <th>3</th>\n",
       "      <td>103</td>\n",
       "      <td>1230</td>\n",
       "      <td>4.0</td>\n",
       "      <td>1432086587</td>\n",
       "    </tr>\n",
       "    <tr>\n",
       "      <th>4</th>\n",
       "      <td>68</td>\n",
       "      <td>1961</td>\n",
       "      <td>2.5</td>\n",
       "      <td>1158531027</td>\n",
       "    </tr>\n",
       "  </tbody>\n",
       "</table>\n",
       "</div>"
      ],
      "text/plain": [
       "   userId  movieId  rating   timestamp\n",
       "0     438     4344     3.5  1105664636\n",
       "1     323      230     3.0  1422640640\n",
       "2     226      520     4.0  1095663071\n",
       "3     103     1230     4.0  1432086587\n",
       "4      68     1961     2.5  1158531027"
      ]
     },
     "execution_count": 17,
     "metadata": {},
     "output_type": "execute_result"
    }
   ],
   "source": [
    "rating_pd = pd.read_csv(train_path)\n",
    "num_user = np.unique(rating_pd.values[:, 0]).shape[0]\n",
    "num_movie = np.unique(rating_pd.values[:, 1]).shape[0]\n",
    "rating_pd.head()"
   ]
  },
  {
   "cell_type": "code",
   "execution_count": 18,
   "metadata": {},
   "outputs": [],
   "source": [
    "r_matrix = np.zeros((num_user, num_movie))\n",
    "p_matrix = np.random.normal(mu, sigma_p, (num_user, latent_dim))\n",
    "q_matrix = np.random.normal(mu, sigma_q, (num_movie, latent_dim))\n",
    "\n",
    "movie_dic = {}\n",
    "idx = 0\n",
    "for movie_id in np.unique(rating_pd.values[:, 1]):\n",
    "    movie_dic[movie_id] = idx\n",
    "    idx += 1\n",
    "\n",
    "for index, row in rating_pd.iterrows():\n",
    "    r_matrix[int(row['userId'] - 1), movie_dic[row['movieId']]] = row['rating']"
   ]
  },
  {
   "cell_type": "code",
   "execution_count": 19,
   "metadata": {},
   "outputs": [],
   "source": [
    "def MSE (r, p, q):\n",
    "    p_qt_matrix = np.dot(p, q.T)\n",
    "    result = r - p_qt_matrix\n",
    "    I = np.zeros_like(r)\n",
    "    I[r != 0] = 0.5\n",
    "    result = np.power(result, 2)\n",
    "    result = np.multiply(I, result)\n",
    "    return np.sum(result)\n",
    "    \n",
    "def L2_loss(sig1, sig2, matrix):\n",
    "    result = np.power(matrix, 2)\n",
    "    result = np.sum(result)\n",
    "    constant = sig1 / float(sig2 * 2)\n",
    "    return constant * result    "
   ]
  },
  {
   "cell_type": "code",
   "execution_count": 20,
   "metadata": {},
   "outputs": [],
   "source": [
    "error = MSE(r_matrix, p_matrix, q_matrix) + L2_loss(sigma, sigma_q, q_matrix) + L2_loss(sigma, sigma_p, p_matrix)"
   ]
  },
  {
   "cell_type": "code",
   "execution_count": 21,
   "metadata": {},
   "outputs": [],
   "source": [
    "def p_q_derivative (r, p, q, sigma, sigma_p, sigma_q):\n",
    "    p_qt_matrix = np.dot(p, q.T)\n",
    "    residual = r - p_qt_matrix\n",
    "    I = np.zeros_like(r)\n",
    "    I[r != 0] = 1\n",
    "    residual = np.multiply(I, residual)\n",
    "    p_derivative = -1.0 * np.dot(residual, q) + sigma / sigma_p * p\n",
    "    q_derivative = -1.0 * np.dot(residual.T, p) + sigma / sigma_q * q\n",
    "    return p_derivative, q_derivative"
   ]
  },
  {
   "cell_type": "code",
   "execution_count": 25,
   "metadata": {
    "scrolled": false
   },
   "outputs": [
    {
     "name": "stdout",
     "output_type": "stream",
     "text": [
      "552.8159613069719\n",
      "544.9576567123416\n",
      "537.3322820166218\n",
      "529.9328904284187\n",
      "522.7527539772551\n",
      "515.7853545054434\n",
      "509.0243751563792\n",
      "502.4636923350748\n",
      "496.0973681171627\n",
      "489.91964308298407\n",
      "483.92492955387115\n",
      "478.10780520827467\n",
      "472.4630070559875\n",
      "466.98542574936164\n",
      "461.67010021109684\n",
      "456.5122125588938\n",
      "451.50708330802775\n",
      "446.65016683365025\n",
      "441.93704707542594\n",
      "437.3634334679022\n",
      "432.92515708083647\n",
      "428.6181669544679\n",
      "424.4385266156042\n",
      "420.3824107611051\n",
      "416.44610209622357\n",
      "412.62598831596443\n",
      "408.91855921845854\n",
      "405.3204039400299\n",
      "401.8282083023975\n",
      "398.4387522631312\n",
      "395.1489074611611\n",
      "391.9556348497974\n",
      "388.8559824102936\n",
      "385.84708293964263\n",
      "382.9261519067838\n",
      "380.0904853719804\n",
      "377.3374579645874\n",
      "374.6645209149273\n",
      "372.0692001364034\n",
      "369.5490943544032\n",
      "367.10187327892044\n",
      "364.7252758181602\n",
      "362.4171083307356\n",
      "360.17524291434114\n",
      "357.9976157290614\n",
      "355.8822253537243\n",
      "353.82713117392353\n",
      "351.83045180053387\n",
      "349.8903635177175\n",
      "348.0050987595958\n",
      "346.172944614867\n",
      "344.3922413588035\n",
      "342.66138101215887\n",
      "340.97880592659254\n",
      "339.3430073963219\n",
      "337.75252429575164\n",
      "336.2059417429084\n",
      "334.7018897885295\n",
      "333.23904213070244\n",
      "331.81611485497945\n",
      "330.43186519989604\n"
     ]
    }
   ],
   "source": [
    "learning_rate = 0.0001\n",
    "\n",
    "for i in range(3001):\n",
    "    p_derivative, q_derivative = p_q_derivative (r_matrix, p_matrix, q_matrix, sigma, sigma_p, sigma_q)\n",
    "    p_matrix = p_matrix - learning_rate * p_derivative \n",
    "    q_matrix = q_matrix - learning_rate * q_derivative \n",
    "    error = MSE(r_matrix, p_matrix, q_matrix)\n",
    "    if i % 50 == 0:\n",
    "        print(error)"
   ]
  },
  {
   "cell_type": "code",
   "execution_count": 29,
   "metadata": {},
   "outputs": [
    {
     "name": "stdout",
     "output_type": "stream",
     "text": [
      "286.31201148898214\n",
      "283.6232793111692\n",
      "281.3648113794037\n",
      "279.4396718525381\n",
      "277.77456927167367\n",
      "276.31349268253564\n",
      "275.01341493212675\n",
      "273.84117560955457\n",
      "272.7711611135824\n",
      "271.78355419876425\n",
      "270.8630014862388\n",
      "269.99759309253307\n",
      "269.17807814205327\n",
      "268.3972600230148\n",
      "267.6495293696989\n",
      "266.93050296891124\n",
      "266.2367443414194\n",
      "265.5655474208157\n",
      "264.91476905345417\n",
      "264.2826993241195\n",
      "263.66796122309484\n",
      "263.06943309597284\n",
      "262.48618879661876\n",
      "261.91745160172695\n",
      "261.36255882264805\n",
      "260.82093472802535\n",
      "260.292069915881\n",
      "259.7755056816889\n",
      "259.2708222467195\n",
      "258.7776299590554\n",
      "258.29556277394124\n",
      "257.8242734724392\n",
      "257.3634301970237\n",
      "256.9127139767859\n",
      "256.471816988851\n",
      "256.0404413607462\n",
      "255.61829836403317\n",
      "255.20510788530373\n",
      "254.8005980885315\n",
      "254.40450520455406\n",
      "254.01657340031386\n",
      "253.63655469349794\n",
      "253.26420888820638\n",
      "252.89930351483522\n",
      "252.54161376309148\n",
      "252.190922401296\n",
      "251.8470196782439\n",
      "251.50970320614059\n",
      "251.17877782468048\n",
      "250.85405544741548\n",
      "250.53535489221707\n",
      "250.22250169802953\n",
      "249.91532793029836\n",
      "249.61367197748297\n",
      "249.31737834099414\n",
      "249.02629742075774\n",
      "248.74028529842215\n",
      "248.4592035200217\n",
      "248.18291887968243\n",
      "247.91130320576255\n",
      "247.64423315058133\n"
     ]
    }
   ],
   "source": [
    "learning_rate = 0.001\n",
    "\n",
    "for i in range(3001):\n",
    "    p_derivative, q_derivative = p_q_derivative (r_matrix, p_matrix, q_matrix, sigma, sigma_p, sigma_q)\n",
    "    p_matrix = p_matrix - learning_rate * p_derivative \n",
    "    q_matrix = q_matrix - learning_rate * q_derivative \n",
    "    error = MSE(r_matrix, p_matrix, q_matrix)\n",
    "    if i % 50 == 0:\n",
    "        print(error)"
   ]
  },
  {
   "cell_type": "markdown",
   "metadata": {},
   "source": [
    "check the number of movie and user in the train set to be equal to whole "
   ]
  },
  {
   "cell_type": "code",
   "execution_count": null,
   "metadata": {},
   "outputs": [],
   "source": []
  }
 ],
 "metadata": {
  "kernelspec": {
   "display_name": "Python 3",
   "language": "python",
   "name": "python3"
  },
  "language_info": {
   "codemirror_mode": {
    "name": "ipython",
    "version": 3
   },
   "file_extension": ".py",
   "mimetype": "text/x-python",
   "name": "python",
   "nbconvert_exporter": "python",
   "pygments_lexer": "ipython3",
   "version": "3.6.5"
  }
 },
 "nbformat": 4,
 "nbformat_minor": 2
}
