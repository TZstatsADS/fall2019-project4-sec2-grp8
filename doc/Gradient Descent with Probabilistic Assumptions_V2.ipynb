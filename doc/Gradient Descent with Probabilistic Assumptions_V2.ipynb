{
 "cells": [
  {
   "cell_type": "markdown",
   "metadata": {},
   "source": [
    "### Splitiing the data set to test and train"
   ]
  },
  {
   "cell_type": "markdown",
   "metadata": {},
   "source": [
    "حواسم باشم رندم و شافل و انجام ندم"
   ]
  },
  {
   "cell_type": "code",
   "execution_count": 9,
   "metadata": {
    "scrolled": true
   },
   "outputs": [],
   "source": [
    "import pandas as pd\n",
    "import random\n",
    "train_frac = 0.8\n",
    "\n",
    "rating_path = '../data/ml-latest-small/ratings.csv'\n",
    "main_rating_pd = pd.read_csv(rating_path)\n",
    "\n",
    "num_user = np.unique(rating_pd.values[:, 0]).shape[0]\n",
    "num_movie = np.unique(rating_pd.values[:, 1]).shape[0]\n",
    "\n",
    "df_shuffled = rating_pd.sample(frac=1).reset_index(drop=True)\n",
    "# df_shuffled.head()\n",
    "\n",
    "#train_set = df_shuffled.iloc[:int(train_frac * len(df_shuffled))]\n",
    "train_set.to_csv(path_or_buf='../data/train_set.csv', index=False)\n",
    "#test_set = df_shuffled.iloc[int(train_frac * len(df_shuffled)):]\n",
    "test_set.to_csv(path_or_buf='../data/test_set.csv', index=False)"
   ]
  },
  {
   "cell_type": "code",
   "execution_count": 10,
   "metadata": {},
   "outputs": [
    {
     "data": {
      "text/plain": [
       "80668"
      ]
     },
     "execution_count": 10,
     "metadata": {},
     "output_type": "execute_result"
    }
   ],
   "source": [
    "train_path = '../data/train_set.csv'\n",
    "len(pd.read_csv(train_path))"
   ]
  },
  {
   "cell_type": "code",
   "execution_count": 11,
   "metadata": {},
   "outputs": [],
   "source": [
    "import numpy as np\n",
    "import pandas as pd"
   ]
  },
  {
   "cell_type": "code",
   "execution_count": 12,
   "metadata": {},
   "outputs": [],
   "source": [
    "latent_dim = 100\n",
    "sigma = 0.5\n",
    "sigma_p = 0.5\n",
    "sigma_q = 0.5\n",
    "mu = 0\n",
    "rating_path = '../data/ml-latest-small/ratings.csv'\n",
    "train_path = '../data/train_set.csv'"
   ]
  },
  {
   "cell_type": "code",
   "execution_count": 55,
   "metadata": {
    "scrolled": true
   },
   "outputs": [
    {
     "data": {
      "text/plain": [
       "8973"
      ]
     },
     "execution_count": 55,
     "metadata": {},
     "output_type": "execute_result"
    }
   ],
   "source": [
    "rating_pd = pd.read_csv(train_path)\n",
    "\n",
    "rating_pd.head()\n",
    "len(rating_pd['movieId'].unique())"
   ]
  },
  {
   "cell_type": "code",
   "execution_count": 35,
   "metadata": {},
   "outputs": [
    {
     "name": "stdout",
     "output_type": "stream",
     "text": [
      "shape p matrix: (610, 100)\n",
      "shape q matrix: (9724, 100)\n"
     ]
    }
   ],
   "source": [
    "r_matrix = np.zeros((num_user, num_movie))\n",
    "p_matrix = np.random.normal(mu, sigma_p, (num_user, latent_dim))\n",
    "q_matrix = np.random.normal(mu, sigma_q, (num_movie, latent_dim))\n",
    "\n",
    "print('shape p matrix: {}'.format(p_matrix.shape))\n",
    "print('shape q matrix: {}'.format(q_matrix.shape))\n",
    "\n",
    "movie_dic = {}\n",
    "idx = 0\n",
    "for movie_id in np.unique(rating_pd.values[:, 1]):\n",
    "    movie_dic[movie_id] = idx\n",
    "    idx += 1\n",
    "\n",
    "for index, row in rating_pd.iterrows():\n",
    "    r_matrix[int(row['userId'] - 1), movie_dic[row['movieId']]] = row['rating']"
   ]
  },
  {
   "cell_type": "code",
   "execution_count": 57,
   "metadata": {},
   "outputs": [],
   "source": [
    "rating_path = '../data/ml-latest-small/ratings.csv'\n",
    "main_rating_pd = pd.read_csv(rating_path)\n"
   ]
  },
  {
   "cell_type": "code",
   "execution_count": 64,
   "metadata": {},
   "outputs": [],
   "source": [
    "movie_IDD = set(main_rating_pd['movieId'].unique().tolist())\n",
    "train_ID = set(rating_pd['movieId'].unique().tolist())\n",
    "not_in_training_ID = movie_IDD - train_ID"
   ]
  },
  {
   "cell_type": "code",
   "execution_count": 65,
   "metadata": {},
   "outputs": [],
   "source": [
    "import operator\n",
    "sorted_dic = sorted(movie_dic.items(), key=operator.itemgetter(1))\n",
    "\n",
    "with open('../doc/movie_indexes.csv', 'w') as f:\n",
    "    f.write('matrix_index,movie_id\\n')\n",
    "    for movie_id, index in sorted_dic:\n",
    "        f.write('{},{}\\n'.format(index, int(movie_id)))"
   ]
  },
  {
   "cell_type": "code",
   "execution_count": 66,
   "metadata": {},
   "outputs": [],
   "source": [
    "index = 8973\n",
    "with open('../doc/movie_indexes.csv', 'a') as f:\n",
    "    for movie_id in not_in_training_ID:\n",
    "        f.write('{},{}\\n'.format(index, int(movie_id)))\n",
    "        index += 1"
   ]
  },
  {
   "cell_type": "code",
   "execution_count": 37,
   "metadata": {},
   "outputs": [],
   "source": [
    "def MSE (r, p, q):\n",
    "    p_qt_matrix = np.dot(p, q.T)\n",
    "    result = r - p_qt_matrix\n",
    "    I = np.zeros_like(r)\n",
    "    I[r != 0] = 0.5\n",
    "    result = np.power(result, 2)\n",
    "    result = np.multiply(I, result)\n",
    "    return np.sum(result)\n",
    "    \n",
    "def L2_loss(sig1, sig2, matrix):\n",
    "    result = np.power(matrix, 2)\n",
    "    result = np.sum(result)\n",
    "    constant = sig1 / float(sig2 * 2)\n",
    "    return constant * result    "
   ]
  },
  {
   "cell_type": "code",
   "execution_count": 38,
   "metadata": {},
   "outputs": [],
   "source": [
    "error = MSE(r_matrix, p_matrix, q_matrix) + L2_loss(sigma, sigma_q, q_matrix) + L2_loss(sigma, sigma_p, p_matrix)"
   ]
  },
  {
   "cell_type": "code",
   "execution_count": 39,
   "metadata": {},
   "outputs": [],
   "source": [
    "def p_q_derivative (r, p, q, sigma, sigma_p, sigma_q):\n",
    "    p_qt_matrix = np.dot(p, q.T)\n",
    "    residual = r - p_qt_matrix\n",
    "    I = np.zeros_like(r)\n",
    "    I[r != 0] = 1\n",
    "    residual = np.multiply(I, residual)\n",
    "    p_derivative = -1.0 * np.dot(residual, q) + sigma / sigma_p * p\n",
    "    q_derivative = -1.0 * np.dot(residual.T, p) + sigma / sigma_q * q\n",
    "    return p_derivative, q_derivative"
   ]
  },
  {
   "cell_type": "code",
   "execution_count": 44,
   "metadata": {
    "scrolled": false
   },
   "outputs": [
    {
     "name": "stdout",
     "output_type": "stream",
     "text": [
      "239.59623557524776\n",
      "239.30000260400948\n",
      "239.01107869438172\n",
      "238.729196173908\n",
      "238.45410282115412\n",
      "238.1855601415257\n",
      "671\n"
     ]
    }
   ],
   "source": [
    "big_lr = 0.001\n",
    "small_lr = 0.0001\n",
    "\n",
    "cnt = 0 \n",
    "while (error >= 238):\n",
    "    \n",
    "    if error > 239:\n",
    "        learning_rate = big_lr\n",
    "    else:\n",
    "        learning_rate = small_lr\n",
    "    \n",
    "    learning_rate = 0.001   \n",
    "    p_derivative, q_derivative = p_q_derivative (r_matrix, p_matrix, q_matrix, sigma, sigma_p, sigma_q)\n",
    "    p_matrix = p_matrix - learning_rate * p_derivative \n",
    "    q_matrix = q_matrix - learning_rate * q_derivative \n",
    "    error = MSE(r_matrix, p_matrix, q_matrix)\n",
    "    cnt += 1\n",
    "    if cnt % 100 == 0:\n",
    "        print(error)\n",
    "print(cnt)        "
   ]
  },
  {
   "cell_type": "code",
   "execution_count": 45,
   "metadata": {},
   "outputs": [
    {
     "data": {
      "text/plain": [
       "(610, 100)"
      ]
     },
     "execution_count": 45,
     "metadata": {},
     "output_type": "execute_result"
    }
   ],
   "source": [
    "p_matrix.shape"
   ]
  },
  {
   "cell_type": "code",
   "execution_count": 49,
   "metadata": {},
   "outputs": [],
   "source": [
    "import pandas as pd \n",
    "pd.DataFrame(p_matrix).to_csv(\"../output/p_matrix_A2_final.csv\")\n",
    "pd.DataFrame(q_matrix).to_csv(\"../output/q_matrix_A2_final.csv\")"
   ]
  },
  {
   "cell_type": "code",
   "execution_count": null,
   "metadata": {},
   "outputs": [],
   "source": []
  }
 ],
 "metadata": {
  "kernelspec": {
   "display_name": "Python 3",
   "language": "python",
   "name": "python3"
  }
 },
 "nbformat": 4,
 "nbformat_minor": 2
}
