{
 "cells": [
  {
   "cell_type": "code",
   "execution_count": 32,
   "metadata": {},
   "outputs": [],
   "source": [
    "import numpy as np\n",
    "import pandas as pd"
   ]
  },
  {
   "cell_type": "code",
   "execution_count": 33,
   "metadata": {},
   "outputs": [],
   "source": [
    "latent_dim = 100\n",
    "sigma = 1\n",
    "sigma_p = 1\n",
    "sigma_q = 1\n",
    "mu = 0\n",
    "rating_path = '../data/ml-latest-small/ratings.csv'"
   ]
  },
  {
   "cell_type": "code",
   "execution_count": 112,
   "metadata": {
    "scrolled": true
   },
   "outputs": [
    {
     "name": "stdout",
     "output_type": "stream",
     "text": [
      "610\n",
      "9724\n"
     ]
    },
    {
     "data": {
      "text/html": [
       "<div>\n",
       "<style scoped>\n",
       "    .dataframe tbody tr th:only-of-type {\n",
       "        vertical-align: middle;\n",
       "    }\n",
       "\n",
       "    .dataframe tbody tr th {\n",
       "        vertical-align: top;\n",
       "    }\n",
       "\n",
       "    .dataframe thead th {\n",
       "        text-align: right;\n",
       "    }\n",
       "</style>\n",
       "<table border=\"1\" class=\"dataframe\">\n",
       "  <thead>\n",
       "    <tr style=\"text-align: right;\">\n",
       "      <th></th>\n",
       "      <th>userId</th>\n",
       "      <th>movieId</th>\n",
       "      <th>rating</th>\n",
       "      <th>timestamp</th>\n",
       "    </tr>\n",
       "  </thead>\n",
       "  <tbody>\n",
       "    <tr>\n",
       "      <th>0</th>\n",
       "      <td>1</td>\n",
       "      <td>1</td>\n",
       "      <td>4.0</td>\n",
       "      <td>964982703</td>\n",
       "    </tr>\n",
       "    <tr>\n",
       "      <th>1</th>\n",
       "      <td>1</td>\n",
       "      <td>3</td>\n",
       "      <td>4.0</td>\n",
       "      <td>964981247</td>\n",
       "    </tr>\n",
       "    <tr>\n",
       "      <th>2</th>\n",
       "      <td>1</td>\n",
       "      <td>6</td>\n",
       "      <td>4.0</td>\n",
       "      <td>964982224</td>\n",
       "    </tr>\n",
       "    <tr>\n",
       "      <th>3</th>\n",
       "      <td>1</td>\n",
       "      <td>47</td>\n",
       "      <td>5.0</td>\n",
       "      <td>964983815</td>\n",
       "    </tr>\n",
       "    <tr>\n",
       "      <th>4</th>\n",
       "      <td>1</td>\n",
       "      <td>50</td>\n",
       "      <td>5.0</td>\n",
       "      <td>964982931</td>\n",
       "    </tr>\n",
       "  </tbody>\n",
       "</table>\n",
       "</div>"
      ],
      "text/plain": [
       "   userId  movieId  rating  timestamp\n",
       "0       1        1     4.0  964982703\n",
       "1       1        3     4.0  964981247\n",
       "2       1        6     4.0  964982224\n",
       "3       1       47     5.0  964983815\n",
       "4       1       50     5.0  964982931"
      ]
     },
     "execution_count": 112,
     "metadata": {},
     "output_type": "execute_result"
    }
   ],
   "source": [
    "rating_pd = pd.read_csv(rating_path)\n",
    "num_user = np.unique(rating_pd.values[:, 0]).shape[0] # 610 users\n",
    "num_movie = np.unique(rating_pd.values[:, 1]).shape[0] # 9724 movies\n",
    "print(num_user)\n",
    "print(num_movie)\n",
    "rating_pd.head()"
   ]
  },
  {
   "cell_type": "code",
   "execution_count": 113,
   "metadata": {},
   "outputs": [],
   "source": [
    "r_matrix = np.zeros((num_user, num_movie)) # 610 x 9724\n",
    "p_matrix = np.random.normal(mu, sigma_p, (num_user, latent_dim)) # 610 x 100\n",
    "q_matrix = np.random.normal(mu, sigma_q, (num_movie, latent_dim)) # 9724 x 100"
   ]
  },
  {
   "cell_type": "code",
   "execution_count": 114,
   "metadata": {},
   "outputs": [],
   "source": [
    "movie_dic = {} \n",
    "idx = 0\n",
    "for movie_id in np.unique(rating_pd.values[:, 1]): \n",
    "    movie_dic[movie_id] = idx\n",
    "    idx += 1\n",
    "\n",
    "for index, row in rating_pd.iterrows():\n",
    "    r_matrix[int(row['userId'] - 1), movie_dic[row['movieId']]] = row['rating']"
   ]
  },
  {
   "cell_type": "code",
   "execution_count": 115,
   "metadata": {},
   "outputs": [],
   "source": [
    "# print(r_matrix)"
   ]
  },
  {
   "cell_type": "code",
   "execution_count": 116,
   "metadata": {},
   "outputs": [],
   "source": [
    "def MSE (r, p, q):\n",
    "    p_qt_matrix = np.dot(p, q.T) # predicted matrix: 610x100 x 100x9724 = 610x9724\n",
    "    result = r - p_qt_matrix\n",
    "    I = np.zeros_like(r)\n",
    "    I[r != 0] = 0.5\n",
    "    result = np.power(result, 2)\n",
    "    result = np.multiply(I, result)\n",
    "    return np.sum(result)\n",
    "    \n",
    "def L2_loss(sig1, sig2, matrix):\n",
    "    result = np.power(matrix, 2)\n",
    "    result = np.sum(result)\n",
    "    constant = sig1 / float(sig2 * 2)\n",
    "    return constant * result    "
   ]
  },
  {
   "cell_type": "code",
   "execution_count": 117,
   "metadata": {},
   "outputs": [],
   "source": [
    "error = MSE(r_matrix, p_matrix, q_matrix) + L2_loss(sigma, sigma_q, q_matrix) + L2_loss(sigma, sigma_p, p_matrix)"
   ]
  },
  {
   "cell_type": "code",
   "execution_count": 118,
   "metadata": {},
   "outputs": [
    {
     "data": {
      "text/plain": [
       "6122749.3430575775"
      ]
     },
     "execution_count": 118,
     "metadata": {},
     "output_type": "execute_result"
    }
   ],
   "source": [
    "error"
   ]
  },
  {
   "cell_type": "code",
   "execution_count": 119,
   "metadata": {},
   "outputs": [],
   "source": [
    "def mat (r, p, q):\n",
    "    p_qt_matrix = np.dot(p, q.T)\n",
    "    result = r - p_qt_matrix\n",
    "    I = np.zeros_like(r)\n",
    "    I[r != 0] = 0.5\n",
    "    result = np.power(result, 2)\n",
    "    result = np.multiply(I, result)\n",
    "    return result"
   ]
  },
  {
   "cell_type": "code",
   "execution_count": 120,
   "metadata": {},
   "outputs": [
    {
     "name": "stdout",
     "output_type": "stream",
     "text": [
      "5541784.537824479\n",
      "5481790.092234419\n",
      "5424430.583242543\n",
      "5369550.3325297935\n",
      "5317005.466554979\n",
      "5266665.226863091\n",
      "5218410.528812191\n",
      "5172132.664252034\n",
      "5127732.184370369\n",
      "5085117.93469279\n"
     ]
    }
   ],
   "source": [
    "learning_rate = 0.000001\n",
    "\n",
    "for i in range(10):\n",
    "    \n",
    "    a_matrix = mat(r_matrix, p_matrix, q_matrix) \n",
    "    \n",
    "    error_p_d = 2*np.dot(a_matrix,np.negative(q_matrix))+0+sigma/2*sigma_p*(2*np.sum(p_matrix))\n",
    "    \n",
    "    error_q_d = -2*np.dot(a_matrix.T,p_matrix)+sigma/2*sigma_q*(2*np.sum(q_matrix))+0 \n",
    "\n",
    "    p_matrix = p_matrix - learning_rate * error_p_d \n",
    "    \n",
    "    q_matrix = q_matrix - learning_rate * error_q_d \n",
    "    \n",
    "    error = MSE(r_matrix, p_matrix, q_matrix)\n",
    "    \n",
    "    print(error)"
   ]
  },
  {
   "cell_type": "code",
   "execution_count": null,
   "metadata": {},
   "outputs": [],
   "source": []
  }
 ],
 "metadata": {
  "kernelspec": {
   "display_name": "Python 3",
   "language": "python",
   "name": "python3"
  },
  "language_info": {
   "codemirror_mode": {
    "name": "ipython",
    "version": 3
   },
   "file_extension": ".py",
   "mimetype": "text/x-python",
   "name": "python",
   "nbconvert_exporter": "python",
   "pygments_lexer": "ipython3",
   "version": "3.7.3"
  }
 },
 "nbformat": 4,
 "nbformat_minor": 2
}
