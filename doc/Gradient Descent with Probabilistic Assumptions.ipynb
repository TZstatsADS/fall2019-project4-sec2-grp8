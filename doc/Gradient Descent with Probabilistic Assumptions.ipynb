{
 "cells": [
  {
   "cell_type": "code",
   "execution_count": 10,
   "metadata": {},
   "outputs": [],
   "source": [
    "import numpy as np\n",
    "import pandas as pd"
   ]
  },
  {
   "cell_type": "code",
   "execution_count": 11,
   "metadata": {},
   "outputs": [],
   "source": [
    "latent_dim = 100\n",
    "sigma = 1\n",
    "sigma_p = 1\n",
    "sigma_q = 1\n",
    "mu = 0\n",
    "rating_path = '../data/ml-latest-small/ratings.csv'\n"
   ]
  },
  {
   "cell_type": "code",
   "execution_count": 12,
   "metadata": {
    "scrolled": true
   },
   "outputs": [
    {
     "data": {
      "text/html": [
       "<div>\n",
       "<style scoped>\n",
       "    .dataframe tbody tr th:only-of-type {\n",
       "        vertical-align: middle;\n",
       "    }\n",
       "\n",
       "    .dataframe tbody tr th {\n",
       "        vertical-align: top;\n",
       "    }\n",
       "\n",
       "    .dataframe thead th {\n",
       "        text-align: right;\n",
       "    }\n",
       "</style>\n",
       "<table border=\"1\" class=\"dataframe\">\n",
       "  <thead>\n",
       "    <tr style=\"text-align: right;\">\n",
       "      <th></th>\n",
       "      <th>userId</th>\n",
       "      <th>movieId</th>\n",
       "      <th>rating</th>\n",
       "      <th>timestamp</th>\n",
       "    </tr>\n",
       "  </thead>\n",
       "  <tbody>\n",
       "    <tr>\n",
       "      <th>0</th>\n",
       "      <td>1</td>\n",
       "      <td>1</td>\n",
       "      <td>4.0</td>\n",
       "      <td>964982703</td>\n",
       "    </tr>\n",
       "    <tr>\n",
       "      <th>1</th>\n",
       "      <td>1</td>\n",
       "      <td>3</td>\n",
       "      <td>4.0</td>\n",
       "      <td>964981247</td>\n",
       "    </tr>\n",
       "    <tr>\n",
       "      <th>2</th>\n",
       "      <td>1</td>\n",
       "      <td>6</td>\n",
       "      <td>4.0</td>\n",
       "      <td>964982224</td>\n",
       "    </tr>\n",
       "    <tr>\n",
       "      <th>3</th>\n",
       "      <td>1</td>\n",
       "      <td>47</td>\n",
       "      <td>5.0</td>\n",
       "      <td>964983815</td>\n",
       "    </tr>\n",
       "    <tr>\n",
       "      <th>4</th>\n",
       "      <td>1</td>\n",
       "      <td>50</td>\n",
       "      <td>5.0</td>\n",
       "      <td>964982931</td>\n",
       "    </tr>\n",
       "  </tbody>\n",
       "</table>\n",
       "</div>"
      ],
      "text/plain": [
       "   userId  movieId  rating  timestamp\n",
       "0       1        1     4.0  964982703\n",
       "1       1        3     4.0  964981247\n",
       "2       1        6     4.0  964982224\n",
       "3       1       47     5.0  964983815\n",
       "4       1       50     5.0  964982931"
      ]
     },
     "execution_count": 12,
     "metadata": {},
     "output_type": "execute_result"
    }
   ],
   "source": [
    "rating_pd = pd.read_csv(rating_path)\n",
    "num_user = np.unique(rating_pd.values[:, 0]).shape[0]\n",
    "num_movie = np.unique(rating_pd.values[:, 1]).shape[0]\n",
    "rating_pd.head()"
   ]
  },
  {
   "cell_type": "code",
   "execution_count": 13,
   "metadata": {},
   "outputs": [],
   "source": [
    "r_matrix = np.zeros((num_user, num_movie))\n",
    "p_matrix = np.random.normal(mu, sigma_p, (num_user, latent_dim))\n",
    "q_matrix = np.random.normal(mu, sigma_q, (num_movie, latent_dim))\n",
    "\n",
    "movie_dic = {}\n",
    "idx = 0\n",
    "for movie_id in np.unique(rating_pd.values[:, 1]):\n",
    "    movie_dic[movie_id] = idx\n",
    "    idx += 1\n",
    "\n",
    "for index, row in rating_pd.iterrows():\n",
    "    r_matrix[int(row['userId'] - 1), movie_dic[row['movieId']]] = row['rating']"
   ]
  },
  {
   "cell_type": "code",
   "execution_count": 14,
   "metadata": {},
   "outputs": [],
   "source": [
    "def MSE (r, p, q):\n",
    "    p_qt_matrix = np.dot(p, q.T)\n",
    "    result = r - p_qt_matrix\n",
    "    I = np.zeros_like(r)\n",
    "    I[r != 0] = 0.5\n",
    "    result = np.power(result, 2)\n",
    "    result = np.multiply(I, result)\n",
    "    return np.sum(result)\n",
    "    \n",
    "def L2_loss(sig1, sig2, matrix):\n",
    "    result = np.power(matrix, 2)\n",
    "    result = np.sum(result)\n",
    "    constant = sig1 / float(sig2 * 2)\n",
    "    return constant * result    "
   ]
  },
  {
   "cell_type": "code",
   "execution_count": 15,
   "metadata": {},
   "outputs": [],
   "source": [
    "error = MSE(r_matrix, p_matrix, q_matrix) + L2_loss(sigma, sigma_q, q_matrix) + L2_loss(sigma, sigma_p, p_matrix)"
   ]
  },
  {
   "cell_type": "code",
   "execution_count": 16,
   "metadata": {},
   "outputs": [],
   "source": [
    "def p_q_derivative (r, p, q, sigma, sigma_p, sigma_q):\n",
    "    p_qt_matrix = np.dot(p, q.T)\n",
    "    residual = r - p_qt_matrix\n",
    "    I = np.zeros_like(r)\n",
    "    I[r != 0] = 1\n",
    "    residual = np.multiply(I, residual)\n",
    "    p_derivative = np.multiply(-p, np.sum(residual, axis=1).reshape(610, 1)) + sigma / sigma_p * p\n",
    "    q_derivative = np.multiply(-q, np.sum(residual, axis=0).reshape(9724, 1)) + sigma / sigma_q * q\n",
    "    return p_derivative, q_derivative"
   ]
  },
  {
   "cell_type": "code",
   "execution_count": 17,
   "metadata": {},
   "outputs": [
    {
     "name": "stdout",
     "output_type": "stream",
     "text": [
      "207241830619099.06\n",
      "8.503551930753395e+36\n",
      "1.7031174409619446e+107\n"
     ]
    },
    {
     "name": "stderr",
     "output_type": "stream",
     "text": [
      "/anaconda3/lib/python3.6/site-packages/ipykernel_launcher.py:6: RuntimeWarning: overflow encountered in power\n",
      "  \n",
      "/anaconda3/lib/python3.6/site-packages/ipykernel_launcher.py:7: RuntimeWarning: invalid value encountered in multiply\n",
      "  import sys\n"
     ]
    },
    {
     "name": "stdout",
     "output_type": "stream",
     "text": [
      "nan\n",
      "nan\n"
     ]
    },
    {
     "name": "stderr",
     "output_type": "stream",
     "text": [
      "/anaconda3/lib/python3.6/site-packages/ipykernel_launcher.py:6: RuntimeWarning: invalid value encountered in multiply\n",
      "  \n",
      "/anaconda3/lib/python3.6/site-packages/numpy/core/fromnumeric.py:90: RuntimeWarning: invalid value encountered in reduce\n",
      "  return ufunc.reduce(obj, axis, dtype, out, **passkwargs)\n"
     ]
    },
    {
     "name": "stdout",
     "output_type": "stream",
     "text": [
      "nan\n",
      "nan\n",
      "nan\n",
      "nan\n",
      "nan\n"
     ]
    }
   ],
   "source": [
    "learning_rate = 0.1\n",
    "\n",
    "for i in range(10):\n",
    "    p_derivative, q_derivative = p_q_derivative (r_matrix, p_matrix, q_matrix, sigma, sigma_p, sigma_q)\n",
    "    p_matrix = p_matrix - learning_rate * p_derivative \n",
    "    q_matrix = q_matrix - learning_rate * q_derivative \n",
    "    error = MSE(r_matrix, p_matrix, q_matrix)\n",
    "    print(error)"
   ]
  },
  {
   "cell_type": "code",
   "execution_count": null,
   "metadata": {},
   "outputs": [],
   "source": []
  }
 ],
 "metadata": {
  "kernelspec": {
   "display_name": "Python 3",
   "language": "python",
   "name": "python3"
  },
  "language_info": {
   "codemirror_mode": {
    "name": "ipython",
    "version": 3
   },
   "file_extension": ".py",
   "mimetype": "text/x-python",
   "name": "python",
   "nbconvert_exporter": "python",
   "pygments_lexer": "ipython3",
   "version": "3.6.5"
  }
 },
 "nbformat": 4,
 "nbformat_minor": 2
}
